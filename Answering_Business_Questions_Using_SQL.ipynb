{
 "cells": [
  {
   "cell_type": "markdown",
   "metadata": {
    "collapsed": true
   },
   "source": [
    "# Answering Business Questions Using SQL"
   ]
  },
  {
   "cell_type": "markdown",
   "metadata": {},
   "source": [
    "## Introduction and Schema Diagram"
   ]
  },
  {
   "cell_type": "markdown",
   "metadata": {},
   "source": [
    "For this project, let's imagine we are a group of Business Analysts that have been employed to help a fictional music store named Chinook answer some questions they have about their business. \n",
    "\n",
    "The company has generously provided us with Chinook database and its relational schema for us to work with. The schema diagram is as follows:\n",
    "\n",
    "![d](chinook_er_diagram.png)"
   ]
  },
  {
   "cell_type": "code",
   "execution_count": 1,
   "metadata": {
    "collapsed": false
   },
   "outputs": [
    {
     "data": {
      "text/plain": [
       "'Connected: None@chinook.db'"
      ]
     },
     "execution_count": 1,
     "metadata": {},
     "output_type": "execute_result"
    }
   ],
   "source": [
    "%%capture\n",
    "%load_ext sql\n",
    "%sql sqlite:///chinook.db"
   ]
  },
  {
   "cell_type": "code",
   "execution_count": 2,
   "metadata": {
    "collapsed": false
   },
   "outputs": [
    {
     "name": "stdout",
     "output_type": "stream",
     "text": [
      "Done.\n"
     ]
    },
    {
     "data": {
      "text/html": [
       "<table>\n",
       "    <tr>\n",
       "        <th>name</th>\n",
       "        <th>type</th>\n",
       "    </tr>\n",
       "    <tr>\n",
       "        <td>album</td>\n",
       "        <td>table</td>\n",
       "    </tr>\n",
       "    <tr>\n",
       "        <td>artist</td>\n",
       "        <td>table</td>\n",
       "    </tr>\n",
       "    <tr>\n",
       "        <td>customer</td>\n",
       "        <td>table</td>\n",
       "    </tr>\n",
       "    <tr>\n",
       "        <td>employee</td>\n",
       "        <td>table</td>\n",
       "    </tr>\n",
       "    <tr>\n",
       "        <td>genre</td>\n",
       "        <td>table</td>\n",
       "    </tr>\n",
       "    <tr>\n",
       "        <td>invoice</td>\n",
       "        <td>table</td>\n",
       "    </tr>\n",
       "    <tr>\n",
       "        <td>invoice_line</td>\n",
       "        <td>table</td>\n",
       "    </tr>\n",
       "    <tr>\n",
       "        <td>media_type</td>\n",
       "        <td>table</td>\n",
       "    </tr>\n",
       "    <tr>\n",
       "        <td>playlist</td>\n",
       "        <td>table</td>\n",
       "    </tr>\n",
       "    <tr>\n",
       "        <td>playlist_track</td>\n",
       "        <td>table</td>\n",
       "    </tr>\n",
       "    <tr>\n",
       "        <td>track</td>\n",
       "        <td>table</td>\n",
       "    </tr>\n",
       "    <tr>\n",
       "        <td>top_5_names</td>\n",
       "        <td>view</td>\n",
       "    </tr>\n",
       "</table>"
      ],
      "text/plain": [
       "[('album', 'table'),\n",
       " ('artist', 'table'),\n",
       " ('customer', 'table'),\n",
       " ('employee', 'table'),\n",
       " ('genre', 'table'),\n",
       " ('invoice', 'table'),\n",
       " ('invoice_line', 'table'),\n",
       " ('media_type', 'table'),\n",
       " ('playlist', 'table'),\n",
       " ('playlist_track', 'table'),\n",
       " ('track', 'table'),\n",
       " ('top_5_names', 'view')]"
      ]
     },
     "execution_count": 2,
     "metadata": {},
     "output_type": "execute_result"
    }
   ],
   "source": [
    "%%sql \n",
    "SELECT\n",
    "    name,\n",
    "    type\n",
    "FROM sqlite_master\n",
    "WHERE type IN (\"table\",\"view\");"
   ]
  },
  {
   "cell_type": "code",
   "execution_count": 3,
   "metadata": {
    "collapsed": false
   },
   "outputs": [
    {
     "name": "stdout",
     "output_type": "stream",
     "text": [
      "Done.\n"
     ]
    },
    {
     "data": {
      "text/html": [
       "<table>\n",
       "    <tr>\n",
       "        <th>album_id</th>\n",
       "        <th>title</th>\n",
       "        <th>artist_id</th>\n",
       "    </tr>\n",
       "    <tr>\n",
       "        <td>1</td>\n",
       "        <td>For Those About To Rock We Salute You</td>\n",
       "        <td>1</td>\n",
       "    </tr>\n",
       "    <tr>\n",
       "        <td>2</td>\n",
       "        <td>Balls to the Wall</td>\n",
       "        <td>2</td>\n",
       "    </tr>\n",
       "    <tr>\n",
       "        <td>3</td>\n",
       "        <td>Restless and Wild</td>\n",
       "        <td>2</td>\n",
       "    </tr>\n",
       "</table>"
      ],
      "text/plain": [
       "[(1, 'For Those About To Rock We Salute You', 1),\n",
       " (2, 'Balls to the Wall', 2),\n",
       " (3, 'Restless and Wild', 2)]"
      ]
     },
     "execution_count": 3,
     "metadata": {},
     "output_type": "execute_result"
    }
   ],
   "source": [
    "%%sql\n",
    "SELECT * FROM album LIMIT 3;"
   ]
  },
  {
   "cell_type": "code",
   "execution_count": 4,
   "metadata": {
    "collapsed": false
   },
   "outputs": [
    {
     "name": "stdout",
     "output_type": "stream",
     "text": [
      "Done.\n"
     ]
    },
    {
     "data": {
      "text/html": [
       "<table>\n",
       "    <tr>\n",
       "        <th>invoice_id</th>\n",
       "        <th>customer_id</th>\n",
       "        <th>invoice_date</th>\n",
       "        <th>billing_address</th>\n",
       "        <th>billing_city</th>\n",
       "        <th>billing_state</th>\n",
       "        <th>billing_country</th>\n",
       "        <th>billing_postal_code</th>\n",
       "        <th>total</th>\n",
       "    </tr>\n",
       "    <tr>\n",
       "        <td>1</td>\n",
       "        <td>18</td>\n",
       "        <td>2017-01-03 00:00:00</td>\n",
       "        <td>627 Broadway</td>\n",
       "        <td>New York</td>\n",
       "        <td>NY</td>\n",
       "        <td>USA</td>\n",
       "        <td>10012-2612</td>\n",
       "        <td>15.84</td>\n",
       "    </tr>\n",
       "    <tr>\n",
       "        <td>2</td>\n",
       "        <td>30</td>\n",
       "        <td>2017-01-03 00:00:00</td>\n",
       "        <td>230 Elgin Street</td>\n",
       "        <td>Ottawa</td>\n",
       "        <td>ON</td>\n",
       "        <td>Canada</td>\n",
       "        <td>K2P 1L7</td>\n",
       "        <td>9.9</td>\n",
       "    </tr>\n",
       "    <tr>\n",
       "        <td>3</td>\n",
       "        <td>40</td>\n",
       "        <td>2017-01-05 00:00:00</td>\n",
       "        <td>8, Rue Hanovre</td>\n",
       "        <td>Paris</td>\n",
       "        <td>None</td>\n",
       "        <td>France</td>\n",
       "        <td>75002</td>\n",
       "        <td>1.98</td>\n",
       "    </tr>\n",
       "</table>"
      ],
      "text/plain": [
       "[(1, 18, '2017-01-03 00:00:00', '627 Broadway', 'New York', 'NY', 'USA', '10012-2612', 15.84),\n",
       " (2, 30, '2017-01-03 00:00:00', '230 Elgin Street', 'Ottawa', 'ON', 'Canada', 'K2P 1L7', 9.9),\n",
       " (3, 40, '2017-01-05 00:00:00', '8, Rue Hanovre', 'Paris', 'None', 'France', '75002', 1.98)]"
      ]
     },
     "execution_count": 4,
     "metadata": {},
     "output_type": "execute_result"
    }
   ],
   "source": [
    "%%sql\n",
    "SELECT * FROM invoice LIMIT 3;"
   ]
  },
  {
   "cell_type": "markdown",
   "metadata": {},
   "source": [
    "## Selecting Albums to Purchase"
   ]
  },
  {
   "cell_type": "markdown",
   "metadata": {},
   "source": [
    "The Chinook record store has just signed a deal with a new record label, and we have been tasked with selecting the first three albums that will be added to the store, from a list of four. All four albums are by artists that don't have any tracks in the store right now - we have the artist names, and the genre of music they produce:\n",
    "\n",
    "| Artist Name | Genre |\n",
    "| ----------- | ----- |\n",
    "| Regal       | Hip-Hop |\n",
    "| Red Tone    | Punk  |\n",
    "| Meteor and the Girls | Pop |\n",
    "| Slim Jim Bites | Blues |\n",
    "\n",
    "The record label specializes in artists from the USA, and they have given Chinook some money to advertise the new albums in the USA, so we're interested in finding out which genres sell the best in the USA."
   ]
  },
  {
   "cell_type": "code",
   "execution_count": 5,
   "metadata": {
    "collapsed": false
   },
   "outputs": [
    {
     "name": "stdout",
     "output_type": "stream",
     "text": [
      "Done.\n"
     ]
    },
    {
     "data": {
      "text/html": [
       "<table>\n",
       "    <tr>\n",
       "        <th>genre</th>\n",
       "        <th>num_tracks</th>\n",
       "        <th>perc_tracks</th>\n",
       "    </tr>\n",
       "    <tr>\n",
       "        <td>Rock</td>\n",
       "        <td>561</td>\n",
       "        <td>53.37773549000951</td>\n",
       "    </tr>\n",
       "    <tr>\n",
       "        <td>Alternative &amp; Punk</td>\n",
       "        <td>130</td>\n",
       "        <td>12.369172216936251</td>\n",
       "    </tr>\n",
       "    <tr>\n",
       "        <td>Metal</td>\n",
       "        <td>124</td>\n",
       "        <td>11.798287345385347</td>\n",
       "    </tr>\n",
       "    <tr>\n",
       "        <td>R&amp;B/Soul</td>\n",
       "        <td>53</td>\n",
       "        <td>5.042816365366318</td>\n",
       "    </tr>\n",
       "    <tr>\n",
       "        <td>Blues</td>\n",
       "        <td>36</td>\n",
       "        <td>3.4253092293054235</td>\n",
       "    </tr>\n",
       "    <tr>\n",
       "        <td>Alternative</td>\n",
       "        <td>35</td>\n",
       "        <td>3.330161750713606</td>\n",
       "    </tr>\n",
       "    <tr>\n",
       "        <td>Latin</td>\n",
       "        <td>22</td>\n",
       "        <td>2.093244529019981</td>\n",
       "    </tr>\n",
       "    <tr>\n",
       "        <td>Pop</td>\n",
       "        <td>22</td>\n",
       "        <td>2.093244529019981</td>\n",
       "    </tr>\n",
       "    <tr>\n",
       "        <td>Hip Hop/Rap</td>\n",
       "        <td>20</td>\n",
       "        <td>1.9029495718363463</td>\n",
       "    </tr>\n",
       "    <tr>\n",
       "        <td>Jazz</td>\n",
       "        <td>14</td>\n",
       "        <td>1.3320647002854424</td>\n",
       "    </tr>\n",
       "    <tr>\n",
       "        <td>Easy Listening</td>\n",
       "        <td>13</td>\n",
       "        <td>1.236917221693625</td>\n",
       "    </tr>\n",
       "    <tr>\n",
       "        <td>Reggae</td>\n",
       "        <td>6</td>\n",
       "        <td>0.570884871550904</td>\n",
       "    </tr>\n",
       "    <tr>\n",
       "        <td>Electronica/Dance</td>\n",
       "        <td>5</td>\n",
       "        <td>0.47573739295908657</td>\n",
       "    </tr>\n",
       "    <tr>\n",
       "        <td>Classical</td>\n",
       "        <td>4</td>\n",
       "        <td>0.38058991436726924</td>\n",
       "    </tr>\n",
       "    <tr>\n",
       "        <td>Heavy Metal</td>\n",
       "        <td>3</td>\n",
       "        <td>0.285442435775452</td>\n",
       "    </tr>\n",
       "    <tr>\n",
       "        <td>Soundtrack</td>\n",
       "        <td>2</td>\n",
       "        <td>0.19029495718363462</td>\n",
       "    </tr>\n",
       "    <tr>\n",
       "        <td>TV Shows</td>\n",
       "        <td>1</td>\n",
       "        <td>0.09514747859181731</td>\n",
       "    </tr>\n",
       "</table>"
      ],
      "text/plain": [
       "[('Rock', 561, 53.37773549000951),\n",
       " ('Alternative & Punk', 130, 12.369172216936251),\n",
       " ('Metal', 124, 11.798287345385347),\n",
       " ('R&B/Soul', 53, 5.042816365366318),\n",
       " ('Blues', 36, 3.4253092293054235),\n",
       " ('Alternative', 35, 3.330161750713606),\n",
       " ('Latin', 22, 2.093244529019981),\n",
       " ('Pop', 22, 2.093244529019981),\n",
       " ('Hip Hop/Rap', 20, 1.9029495718363463),\n",
       " ('Jazz', 14, 1.3320647002854424),\n",
       " ('Easy Listening', 13, 1.236917221693625),\n",
       " ('Reggae', 6, 0.570884871550904),\n",
       " ('Electronica/Dance', 5, 0.47573739295908657),\n",
       " ('Classical', 4, 0.38058991436726924),\n",
       " ('Heavy Metal', 3, 0.285442435775452),\n",
       " ('Soundtrack', 2, 0.19029495718363462),\n",
       " ('TV Shows', 1, 0.09514747859181731)]"
      ]
     },
     "execution_count": 5,
     "metadata": {},
     "output_type": "execute_result"
    }
   ],
   "source": [
    "%%sql\n",
    "WITH usa_sales AS (\n",
    "    SELECT *\n",
    "    FROM customer c\n",
    "        JOIN invoice i ON c.customer_id = i.customer_id\n",
    "        JOIN invoice_line il ON i.invoice_id = il.invoice_id\n",
    "    WHERE c.country = 'USA'\n",
    ")\n",
    "\n",
    "SELECT \n",
    "    g.name genre,\n",
    "    COUNT(t.track_id) num_tracks,\n",
    "    CAST(COUNT(t.track_id) AS FLOAT) * 100\n",
    "            / (SELECT COUNT(*) FROM usa_sales) perc_tracks\n",
    "FROM usa_sales us\n",
    "    JOIN track t ON us.track_id = t.track_id\n",
    "    JOIN genre g ON t.genre_id = g.genre_id\n",
    "GROUP BY 1 \n",
    "ORDER BY 2 DESC;"
   ]
  },
  {
   "cell_type": "markdown",
   "metadata": {},
   "source": [
    "Based on the results of the query we just executed above, we should purchase the albums from Red Tone, Slim Jim Bites, and Meteor and the Girls.\n",
    "\n",
    "It is important to note, however, that the genres of these three artists only make up about 17% of the total sales which suggests we should be purchasing albums from artists within the 'Rock' genre."
   ]
  },
  {
   "cell_type": "markdown",
   "metadata": {},
   "source": [
    "## Analysing Employee Sales Performance"
   ]
  },
  {
   "cell_type": "markdown",
   "metadata": {},
   "source": [
    "Each customer for the Chinook store gets assigned to a sales support agent within the company when they first make a purchase. We have been asked to analyze the purchases of customers belonging to each employee to see if any sales support agent is performing either better or worse than the others."
   ]
  },
  {
   "cell_type": "code",
   "execution_count": 6,
   "metadata": {
    "collapsed": false
   },
   "outputs": [
    {
     "name": "stdout",
     "output_type": "stream",
     "text": [
      "Done.\n"
     ]
    },
    {
     "data": {
      "text/html": [
       "<table>\n",
       "    <tr>\n",
       "        <th>employee_name</th>\n",
       "        <th>hire_date</th>\n",
       "        <th>tot_sales</th>\n",
       "    </tr>\n",
       "    <tr>\n",
       "        <td>Jane Peacock</td>\n",
       "        <td>2017-04-01 00:00:00</td>\n",
       "        <td>1731.5100000000039</td>\n",
       "    </tr>\n",
       "    <tr>\n",
       "        <td>Margaret Park</td>\n",
       "        <td>2017-05-03 00:00:00</td>\n",
       "        <td>1584.0000000000034</td>\n",
       "    </tr>\n",
       "    <tr>\n",
       "        <td>Steve Johnson</td>\n",
       "        <td>2017-10-17 00:00:00</td>\n",
       "        <td>1393.920000000002</td>\n",
       "    </tr>\n",
       "</table>"
      ],
      "text/plain": [
       "[('Jane Peacock', '2017-04-01 00:00:00', 1731.5100000000039),\n",
       " ('Margaret Park', '2017-05-03 00:00:00', 1584.0000000000034),\n",
       " ('Steve Johnson', '2017-10-17 00:00:00', 1393.920000000002)]"
      ]
     },
     "execution_count": 6,
     "metadata": {},
     "output_type": "execute_result"
    }
   ],
   "source": [
    "%%sql\n",
    "WITH employee_sales AS (\n",
    "    SELECT * \n",
    "    FROM employee e\n",
    "        JOIN customer c ON e.employee_id = c.support_rep_id\n",
    "        JOIN invoice i ON c.customer_id = i.customer_id\n",
    ")\n",
    "\n",
    "SELECT \n",
    "    first_name || ' ' || last_name employee_name,\n",
    "    hire_date,\n",
    "    SUM(total) tot_sales\n",
    "FROM employee_sales\n",
    "GROUP BY 1\n",
    "ORDER BY 3 DESC;"
   ]
  },
  {
   "cell_type": "markdown",
   "metadata": {},
   "source": [
    "We see that there are three sales support agents at Chinook and that total dollar amount of sales made by each of them appears to be closely related to how long they have worked there. That is, the early they joined the company as an employee, the more sales they tend to make which is what we would intuitively expect."
   ]
  },
  {
   "cell_type": "markdown",
   "metadata": {},
   "source": [
    "## Analysing Sales by Country"
   ]
  },
  {
   "cell_type": "markdown",
   "metadata": {},
   "source": [
    "We would now like to analyse sales data for customers from each country individually. For the purposes of our analysis, we will use the country value from the `customers` table and ignore the country from the billing address in the `invoice` table.\n",
    "\n",
    "For each country, we will compute the following summary metrics:\n",
    "\n",
    "- Total number of customers\n",
    "- Total value of sales\n",
    "- Average value of sales per customer\n",
    "- Average order value\n",
    "\n",
    "Due to the fact there are numerous countries with only one customer who made purchases from Chinook, we will group these customers under a separate category named `Other` in our analysis."
   ]
  },
  {
   "cell_type": "code",
   "execution_count": 7,
   "metadata": {
    "collapsed": false
   },
   "outputs": [
    {
     "name": "stdout",
     "output_type": "stream",
     "text": [
      "Done.\n"
     ]
    },
    {
     "data": {
      "text/html": [
       "<table>\n",
       "    <tr>\n",
       "        <th>country</th>\n",
       "        <th>num_customers</th>\n",
       "        <th>total_amt</th>\n",
       "        <th>avg_cust_amt</th>\n",
       "        <th>avg_inv_amt</th>\n",
       "    </tr>\n",
       "    <tr>\n",
       "        <td>USA</td>\n",
       "        <td>13</td>\n",
       "        <td>1040.490000000008</td>\n",
       "        <td>80.03769230769292</td>\n",
       "        <td>7.942671755725252</td>\n",
       "    </tr>\n",
       "    <tr>\n",
       "        <td>Canada</td>\n",
       "        <td>8</td>\n",
       "        <td>535.5900000000034</td>\n",
       "        <td>66.94875000000043</td>\n",
       "        <td>7.047236842105309</td>\n",
       "    </tr>\n",
       "    <tr>\n",
       "        <td>Brazil</td>\n",
       "        <td>5</td>\n",
       "        <td>427.68000000000245</td>\n",
       "        <td>85.53600000000048</td>\n",
       "        <td>7.011147540983647</td>\n",
       "    </tr>\n",
       "    <tr>\n",
       "        <td>France</td>\n",
       "        <td>5</td>\n",
       "        <td>389.0700000000021</td>\n",
       "        <td>77.81400000000042</td>\n",
       "        <td>7.781400000000042</td>\n",
       "    </tr>\n",
       "    <tr>\n",
       "        <td>Germany</td>\n",
       "        <td>4</td>\n",
       "        <td>334.6200000000016</td>\n",
       "        <td>83.6550000000004</td>\n",
       "        <td>8.161463414634186</td>\n",
       "    </tr>\n",
       "    <tr>\n",
       "        <td>United Kingdom</td>\n",
       "        <td>3</td>\n",
       "        <td>245.52000000000078</td>\n",
       "        <td>81.84000000000026</td>\n",
       "        <td>8.768571428571457</td>\n",
       "    </tr>\n",
       "    <tr>\n",
       "        <td>Czech Republic</td>\n",
       "        <td>2</td>\n",
       "        <td>273.24000000000103</td>\n",
       "        <td>136.62000000000052</td>\n",
       "        <td>9.108000000000034</td>\n",
       "    </tr>\n",
       "    <tr>\n",
       "        <td>India</td>\n",
       "        <td>2</td>\n",
       "        <td>183.1500000000002</td>\n",
       "        <td>91.5750000000001</td>\n",
       "        <td>8.72142857142858</td>\n",
       "    </tr>\n",
       "    <tr>\n",
       "        <td>Portugal</td>\n",
       "        <td>2</td>\n",
       "        <td>185.13000000000022</td>\n",
       "        <td>92.56500000000011</td>\n",
       "        <td>6.3837931034482835</td>\n",
       "    </tr>\n",
       "    <tr>\n",
       "        <td>Other</td>\n",
       "        <td>15</td>\n",
       "        <td>1094.9400000000085</td>\n",
       "        <td>72.99600000000056</td>\n",
       "        <td>7.448571428571486</td>\n",
       "    </tr>\n",
       "</table>"
      ],
      "text/plain": [
       "[('USA', 13, 1040.490000000008, 80.03769230769292, 7.942671755725252),\n",
       " ('Canada', 8, 535.5900000000034, 66.94875000000043, 7.047236842105309),\n",
       " ('Brazil', 5, 427.68000000000245, 85.53600000000048, 7.011147540983647),\n",
       " ('France', 5, 389.0700000000021, 77.81400000000042, 7.781400000000042),\n",
       " ('Germany', 4, 334.6200000000016, 83.6550000000004, 8.161463414634186),\n",
       " ('United Kingdom', 3, 245.52000000000078, 81.84000000000026, 8.768571428571457),\n",
       " ('Czech Republic', 2, 273.24000000000103, 136.62000000000052, 9.108000000000034),\n",
       " ('India', 2, 183.1500000000002, 91.5750000000001, 8.72142857142858),\n",
       " ('Portugal', 2, 185.13000000000022, 92.56500000000011, 6.3837931034482835),\n",
       " ('Other', 15, 1094.9400000000085, 72.99600000000056, 7.448571428571486)]"
      ]
     },
     "execution_count": 7,
     "metadata": {},
     "output_type": "execute_result"
    }
   ],
   "source": [
    "%%sql\n",
    "WITH country_with_other AS (\n",
    "    SELECT \n",
    "        CASE WHEN \n",
    "            (SELECT COUNT(*)\n",
    "             FROM customer\n",
    "             WHERE country = c.country) = 1\n",
    "        THEN 'Other' ELSE c.country\n",
    "        END AS country,\n",
    "        c.customer_id,\n",
    "        il.*\n",
    "    FROM customer c\n",
    "        JOIN invoice i ON c.customer_id = i.customer_id\n",
    "        JOIN invoice_line il ON i.invoice_id = il.invoice_id\n",
    ")\n",
    "\n",
    "SELECT \n",
    "    country,\n",
    "    num_customers,\n",
    "    total_amt,\n",
    "    avg_cust_amt,\n",
    "    avg_inv_amt\n",
    "FROM (\n",
    "    SELECT\n",
    "        country,\n",
    "        COUNT(DISTINCT customer_id) num_customers,\n",
    "        SUM(unit_price) total_amt,\n",
    "        SUM(unit_price) / \n",
    "             (SELECT COUNT(DISTINCT customer_id)) avg_cust_amt,\n",
    "        SUM(unit_price) / \n",
    "             (SELECT COUNT(DISTINCT invoice_id)) avg_inv_amt,\n",
    "        CASE \n",
    "            WHEN country = 'Other' THEN 1\n",
    "            ELSE 0\n",
    "        END AS sort_other\n",
    "    FROM country_with_other\n",
    "    GROUP BY country\n",
    "    ORDER BY \n",
    "        sort_other, \n",
    "        num_customers DESC\n",
    "    );\n"
   ]
  },
  {
   "cell_type": "markdown",
   "metadata": {
    "collapsed": true
   },
   "source": [
    "## Albums vs. Individual Tracks"
   ]
  },
  {
   "cell_type": "markdown",
   "metadata": {},
   "source": [
    "The Chinook store is setup in a way that allows customer to make purchases in one of the two ways:\n",
    "\n",
    "- Purchase a whole album\n",
    "- Purchase a collection of one or more individual tracks.\n",
    "\n",
    "The store does not let customers purchase a whole album, and then add individual tracks to that same purchase (unless they do that by choosing each track manually). When customers purchase albums they are charged the same price as if they had purchased each of those tracks separately.\n",
    "\n",
    "Management are currently considering changing their purchasing strategy to save money. The strategy they are considering is to purchase only the most popular tracks from each album from record companies, instead of purchasing every track from an album.\n",
    "\n",
    "We have been asked to find out what percentage of purchases are individual tracks vs whole albums, so that management can use this data to understand the effect this decision might have on overall revenue."
   ]
  },
  {
   "cell_type": "code",
   "execution_count": 8,
   "metadata": {
    "collapsed": false
   },
   "outputs": [
    {
     "name": "stdout",
     "output_type": "stream",
     "text": [
      "Done.\n"
     ]
    },
    {
     "data": {
      "text/html": [
       "<table>\n",
       "    <tr>\n",
       "        <th>album_purchase</th>\n",
       "        <th>num_invoices</th>\n",
       "        <th>perc_invoices</th>\n",
       "    </tr>\n",
       "    <tr>\n",
       "        <td>No</td>\n",
       "        <td>500</td>\n",
       "        <td>0.8143322475570033</td>\n",
       "    </tr>\n",
       "    <tr>\n",
       "        <td>Yes</td>\n",
       "        <td>114</td>\n",
       "        <td>0.18566775244299674</td>\n",
       "    </tr>\n",
       "</table>"
      ],
      "text/plain": [
       "[('No', 500, 0.8143322475570033), ('Yes', 114, 0.18566775244299674)]"
      ]
     },
     "execution_count": 8,
     "metadata": {},
     "output_type": "execute_result"
    }
   ],
   "source": [
    "%%sql\n",
    "WITH invoice_first_track AS \n",
    "(\n",
    "    SELECT\n",
    "        il.invoice_id,\n",
    "        MIN(il.track_id) first_track\n",
    "    FROM invoice_line il\n",
    "    GROUP BY il.invoice_id\n",
    ")\n",
    "\n",
    "SELECT \n",
    "    album_purchase,\n",
    "    COUNT(invoice_id) num_invoices,\n",
    "    CAST(COUNT(invoice_id) AS FLOAT) /\n",
    "            (SELECT COUNT(invoice_id) FROM invoice) perc_invoices\n",
    "FROM (\n",
    "    SELECT \n",
    "        ifs.*,\n",
    "        CASE\n",
    "            WHEN\n",
    "                (\n",
    "                    SELECT il.track_id FROM invoice_line il\n",
    "                    WHERE il.invoice_id = ifs.invoice_id\n",
    "\n",
    "                    EXCEPT\n",
    "\n",
    "                    SELECT t.track_id FROM track t\n",
    "                    WHERE t.album_id = (\n",
    "                        SELECT t2.album_id FROM track t2\n",
    "                        WHERE t2.track_id = ifs.first_track\n",
    "                    ) \n",
    "                ) \n",
    "                    IS NULL\n",
    "\n",
    "                AND\n",
    "\n",
    "                (\n",
    "                    SELECT t.track_id FROM track t\n",
    "                    WHERE t.album_id = (\n",
    "                        SELECT t2.album_id FROM track t2\n",
    "                        WHERE t2.track_id = ifs.first_track\n",
    "                    )\n",
    "\n",
    "                    EXCEPT\n",
    "\n",
    "                    SELECT il.track_id FROM invoice_line il\n",
    "                    WHERE il.invoice_id = ifs.invoice_id\n",
    "                )\n",
    "                    IS NULL\n",
    "            THEN 'Yes' ELSE 'No'\n",
    "        END AS album_purchase\n",
    "    FROM invoice_first_track ifs\n",
    "    )\n",
    "GROUP BY album_purchase;"
   ]
  },
  {
   "cell_type": "markdown",
   "metadata": {
    "collapsed": true
   },
   "source": [
    "We see that only about 18% of purchases are for entire albums as opposed to individual tracks. Based on this, I would recommend that Chinook continues to purchase full albums from record labels because about one-fifth of the company's revenue will be lost if only individual tracks are purchased."
   ]
  }
 ],
 "metadata": {
  "kernelspec": {
   "display_name": "Python 3",
   "language": "python",
   "name": "python3"
  },
  "language_info": {
   "codemirror_mode": {
    "name": "ipython",
    "version": 3
   },
   "file_extension": ".py",
   "mimetype": "text/x-python",
   "name": "python",
   "nbconvert_exporter": "python",
   "pygments_lexer": "ipython3",
   "version": "3.4.3"
  }
 },
 "nbformat": 4,
 "nbformat_minor": 2
}
